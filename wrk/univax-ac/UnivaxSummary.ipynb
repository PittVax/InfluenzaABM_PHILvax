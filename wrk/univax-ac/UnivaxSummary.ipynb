{
 "cells": [
  {
   "cell_type": "code",
   "execution_count": null,
   "metadata": {
    "collapsed": false
   },
   "outputs": [],
   "source": [
    "%matplotlib inline\n",
    "%load_ext rpy2.ipython\n",
    "import pandas as pd\n",
    "import ggplot"
   ]
  },
  {
   "cell_type": "code",
   "execution_count": null,
   "metadata": {
    "collapsed": false,
    "scrolled": false
   },
   "outputs": [],
   "source": [
    "def summarize(d):\n",
    "    \n",
    "    def split_name(d):\n",
    "        d = d.copy()\n",
    "        d1 = d.name.str.extract(r'/(\\d.+)\\.(\\d+)', expand=True)\n",
    "        d2 = d1[0].str.split('_', expand=True)\n",
    "        d['uid'] = d1[1]\n",
    "        cols = ('universal_coverage', 'universal_efficacy',\n",
    "                 'seasonal_coverage', 'seasonal_efficacy')\n",
    "        for i,c in zip(range(4), cols):\n",
    "            d[c] = d2[i].astype(float)\n",
    "        del d['name']\n",
    "        return d    \n",
    "    \n",
    "    def summarize_by_age(d):\n",
    "        return pd.Series({\n",
    "            'individuals': d.N_p.mean(),\n",
    "            'vaccines': d.V_i.sum(),\n",
    "            'infections': d.IS_i.sum()\n",
    "        })\n",
    "\n",
    "    d1 = split_name(d).groupby(\n",
    "        ['uid','age','universal_coverage','universal_efficacy',\n",
    "         'seasonal_coverage','seasonal_efficacy']).apply(summarize_by_age).reset_index()\n",
    "    \n",
    "    def summarize_by_uid(d):\n",
    "        return pd.Series({\n",
    "            'individuals': d.individuals.sum(),\n",
    "            'vaccines': d.vaccines.sum(),\n",
    "            'infections': d.infections.sum()\n",
    "        })\n",
    "    \n",
    "    d2 = d1.groupby(['uid','universal_coverage','universal_efficacy',\n",
    "         'seasonal_coverage','seasonal_efficacy']).apply(summarize_by_uid).reset_index()\n",
    "    \n",
    "    return d2"
   ]
  },
  {
   "cell_type": "code",
   "execution_count": null,
   "metadata": {
    "collapsed": false,
    "scrolled": true
   },
   "outputs": [],
   "source": [
    "d = summarize(pd.read_csv('poe_output.csv'))"
   ]
  },
  {
   "cell_type": "code",
   "execution_count": null,
   "metadata": {
    "collapsed": false
   },
   "outputs": [],
   "source": [
    "d.head()"
   ]
  },
  {
   "cell_type": "code",
   "execution_count": null,
   "metadata": {
    "collapsed": false
   },
   "outputs": [],
   "source": [
    "%%R -i d -w 1700 -h 700 -u px\n",
    "library(pacman)\n",
    "p_load(data.table,ggplot2,magrittr)\n",
    "\n",
    "\n",
    "d = data.table(d)\n",
    "d = d[seasonal_efficacy>0.2,lapply(.SD, mean),by=c('universal_coverage','universal_efficacy','seasonal_coverage'),.SDcols=c('individuals','infections','vaccines')]\n",
    "\n",
    "years = 3\n",
    "universal_cost_multiplier = 2\n",
    "population_size = d$individuals %>% mean\n",
    "baseline_infections = d[universal_coverage==0 & seasonal_coverage==0.5]$infections %>% mean\n",
    "baseline_cost = (population_size * 0.5 * years)\n",
    "\n",
    "d$cost = (population_size * d$seasonal_coverage * years) + (population_size * d$universal_coverage * universal_cost_multiplier)\n",
    "d$cost_effectiveness_ratio = (baseline_cost - d$cost) / (baseline_infections - d$infections)\n",
    "\n",
    "#print(d %>% head)\n",
    "\n",
    "ggplot(d, aes(universal_coverage, seasonal_coverage)) +\n",
    "    geom_tile(aes(fill=cost_effectiveness_ratio), color='white') +\n",
    "    scale_fill_gradient(low='blue',high='red') +\n",
    "    facet_grid(. ~ universal_efficacy, labeller = label_both) "
   ]
  },
  {
   "cell_type": "code",
   "execution_count": null,
   "metadata": {
    "collapsed": true
   },
   "outputs": [],
   "source": []
  }
 ],
 "metadata": {
  "kernelspec": {
   "display_name": "phil",
   "language": "python",
   "name": "phil"
  },
  "language_info": {
   "codemirror_mode": {
    "name": "ipython",
    "version": 2
   },
   "file_extension": ".py",
   "mimetype": "text/x-python",
   "name": "python",
   "nbconvert_exporter": "python",
   "pygments_lexer": "ipython2",
   "version": "2.7.13"
  }
 },
 "nbformat": 4,
 "nbformat_minor": 2
}
