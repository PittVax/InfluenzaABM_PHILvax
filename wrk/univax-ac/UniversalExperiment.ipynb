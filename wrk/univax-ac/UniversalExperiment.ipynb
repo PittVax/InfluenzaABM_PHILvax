{
 "cells": [
  {
   "cell_type": "code",
   "execution_count": 1,
   "metadata": {
    "collapsed": true
   },
   "outputs": [],
   "source": [
    "import phil_univax\n",
    "import ast, itertools\n",
    "import numpy as np\n",
    "import concurrent.futures"
   ]
  },
  {
   "cell_type": "code",
   "execution_count": 2,
   "metadata": {
    "collapsed": false
   },
   "outputs": [],
   "source": [
    "opt_params_template = '''\n",
    "{\n",
    "'vaccine_total_avail[%(vaccine_id)d]' : '%(total_doses)d',\n",
    "'vaccine_additional_per_day[%(vaccine_id)d]' : '%(daily_doses)d',                                                                                                      \n",
    "'vaccine_dose_efficacy_values[%(vaccine_id)d][0]' : '1 %(efficacy)f',\n",
    "}\n",
    "'''"
   ]
  },
  {
   "cell_type": "code",
   "execution_count": 3,
   "metadata": {
    "collapsed": true
   },
   "outputs": [],
   "source": [
    "def parameterize(years, universal_coverage, universal_efficacy, seasonal_coverage, seasonal_efficacy):\n",
    "    assert(years<=8)\n",
    "    n = 1224000\n",
    "    p = dict(days=360*years)\n",
    "    p.update(ast.literal_eval(opt_params_template % dict(\n",
    "        vaccine_id=0,\n",
    "        total_doses=int(n*universal_coverage),\n",
    "        daily_doses=int(n*universal_coverage/years/360),\n",
    "        efficacy=universal_efficacy\n",
    "    )))\n",
    "    for vaccine_id in range(1,7):\n",
    "        p.update(ast.literal_eval(opt_params_template % dict(\n",
    "            vaccine_id=vaccine_id,\n",
    "            total_doses=int(n*seasonal_coverage),\n",
    "            daily_doses=int(n*seasonal_coverage),\n",
    "            efficacy=seasonal_efficacy\n",
    "        )))\n",
    "    return p"
   ]
  },
  {
   "cell_type": "code",
   "execution_count": 4,
   "metadata": {
    "collapsed": false
   },
   "outputs": [],
   "source": [
    "universal_coverage_values = np.arange(0,0.5,0.1)\n",
    "universal_efficacy_values = np.arange(0.1,0.5,0.1)\n",
    "seasonal_coverage_values = np.arange(0.1,0.6,0.1)\n",
    "seasonal_efficacy_values = np.arange(0.2,0.7,0.1)"
   ]
  },
  {
   "cell_type": "code",
   "execution_count": 5,
   "metadata": {
    "collapsed": false
   },
   "outputs": [],
   "source": [
    "reload(phil_univax)\n",
    "pux = phil_univax.PhilUniversalExperiment()\n",
    "results = {}\n",
    "\n",
    "with concurrent.futures.ThreadPoolExecutor(max_workers=20) as executor:\n",
    "    for (universal_coverage, universal_efficacy,\n",
    "         seasonal_coverage, seasonal_efficacy) in itertools.product(\n",
    "             universal_coverage_values, universal_efficacy_values,\n",
    "             seasonal_coverage_values, seasonal_efficacy_values):\n",
    "        opt_params = parameterize(3,\n",
    "            universal_coverage, universal_efficacy,\n",
    "            seasonal_coverage, seasonal_efficacy)\n",
    "        run_name = '%f_%f_%f_%f' % (\n",
    "            universal_coverage, universal_efficacy,\n",
    "            seasonal_coverage, seasonal_efficacy)\n",
    "        results[run_name] = executor.submit(pux.run, 'params.universal', opt_params, run_name)"
   ]
  },
  {
   "cell_type": "code",
   "execution_count": 16,
   "metadata": {
    "collapsed": false
   },
   "outputs": [],
   "source": [
    "with concurrent.futures.ThreadPoolExecutor(max_workers=20) as executor:\n",
    "    for k,v in results.items():\n",
    "        if v.result() is False:\n",
    "            (universal_coverage, universal_efficacy,\n",
    "             seasonal_coverage, seasonal_efficacy) = [float(x) for x in k.split('_')]\n",
    "            opt_params = parameterize(3,\n",
    "                universal_coverage, universal_efficacy,\n",
    "                seasonal_coverage, seasonal_efficacy)\n",
    "            run_name = '%f_%f_%f_%f' % (\n",
    "                universal_coverage, universal_efficacy,\n",
    "                seasonal_coverage, seasonal_efficacy)\n",
    "            results[run_name] = executor.submit(pux.run, 'params.universal', opt_params, run_name)        "
   ]
  },
  {
   "cell_type": "code",
   "execution_count": null,
   "metadata": {
    "collapsed": true
   },
   "outputs": [],
   "source": []
  }
 ],
 "metadata": {
  "kernelspec": {
   "display_name": "phil",
   "language": "python",
   "name": "phil"
  },
  "language_info": {
   "codemirror_mode": {
    "name": "ipython",
    "version": 2
   },
   "file_extension": ".py",
   "mimetype": "text/x-python",
   "name": "python",
   "nbconvert_exporter": "python",
   "pygments_lexer": "ipython2",
   "version": "2.7.13"
  }
 },
 "nbformat": 4,
 "nbformat_minor": 2
}
